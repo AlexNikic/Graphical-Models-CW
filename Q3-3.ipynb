{
 "cells": [
  {
   "cell_type": "markdown",
   "id": "3642f4e6-5bef-4650-bdb0-0fe234400754",
   "metadata": {},
   "source": [
    "<h1>Q3.3 Gibbs Sampling</h1>"
   ]
  },
  {
   "cell_type": "code",
   "execution_count": 13,
   "id": "72412c43-4fd1-4947-a608-31ed59fcc98f",
   "metadata": {},
   "outputs": [],
   "source": [
    "import numpy as np\n",
    "from math import exp\n",
    "import pandas as pd\n",
    "\n",
    "class Gibbs:\n",
    "    def __init__(self, beta : float, num_iter : iter = 1000000):\n",
    "        self.beta = beta\n",
    "        self.num_iter = num_iter\n",
    "        self.x = np.random.choice([0,1], size=(10,10))\n",
    "        self.initial_x = self.x.copy()\n",
    "\n",
    "    def run_sampling(self):\n",
    "        self.results = []\n",
    "        \n",
    "        for _ in range(self.num_iter):\n",
    "            x_ij = np.random.choice(10, size=(2,))\n",
    "            i, j = x_ij[0], x_ij[1]\n",
    "            \n",
    "            s_1, s_0 = 0, 0\n",
    "            (s_1, s_0) = (s_1, s_0) if i == 0 else (s_1 + (self.x[i-1][j] == 1), s_0 + (self.x[i-1][j] == 0))\n",
    "            (s_1, s_0) = (s_1, s_0) if i == 9 else (s_1 + (self.x[i+1][j] == 1), s_0 + (self.x[i+1][j] == 0))\n",
    "            (s_1, s_0) = (s_1, s_0) if j == 0 else (s_1 + (self.x[i][j-1] == 1), s_0 + (self.x[i][j-1] == 0))\n",
    "            (s_1, s_0) = (s_1, s_0) if j == 9 else (s_1 + (self.x[i][j+1] == 1), s_0 + (self.x[i][j+1] == 0))\n",
    "            # print(s_1, s_0)\n",
    "            \n",
    "            e_s_1 = exp(self.beta * s_1)\n",
    "            e_s_0 = exp(self.beta * s_0)\n",
    "            \n",
    "            p_1 = e_s_1 / (e_s_1 + e_s_0)\n",
    "            # print(p_1)\n",
    "            \n",
    "            new_x_ij = np.random.choice([0,1], p=[1-p_1, p_1])\n",
    "            # print(f\"x[{i}][{j}]: {x[i][j]} => {new_x_ij}\")\n",
    "        \n",
    "            self.x[i][j] = new_x_ij\n",
    "            \n",
    "            self.results.append((i, j, new_x_ij))\n",
    "\n",
    "    def compute_joint(self):\n",
    "        prob_table = np.zeros((2,2))\n",
    "        \n",
    "        x_1_10, x_10_10 = self.initial_x[0][9], self.initial_x[9][9]\n",
    "        \n",
    "        for r in self.results:\n",
    "            if r[1] == 9:\n",
    "                if r[0] == 0:\n",
    "                    x_1_10 = r[2]\n",
    "                elif r[0] == 9:\n",
    "                    x_10_10 = r[2]\n",
    "            prob_table[x_1_10][x_10_10] += 1\n",
    "        \n",
    "        self.prob_table = pd.DataFrame(prob_table / np.sum(prob_table))\n",
    "\n",
    "        print(self.prob_table)\n",
    "\n",
    "    def run(self):\n",
    "        self.run_sampling()\n",
    "        self.compute_joint()"
   ]
  },
  {
   "cell_type": "code",
   "execution_count": 15,
   "id": "c364f83c-3850-446f-a7f6-2e5cacdfcf1a",
   "metadata": {},
   "outputs": [],
   "source": [
    "gibbs_4 = Gibbs(4)\n",
    "gibbs_1 = Gibbs(1)\n",
    "gibbs_001 = Gibbs(0.01)"
   ]
  },
  {
   "cell_type": "code",
   "execution_count": 17,
   "id": "caea5346-d94d-447b-ad29-7fc3e446b3f5",
   "metadata": {},
   "outputs": [
    {
     "name": "stdout",
     "output_type": "stream",
     "text": [
      "          0         1\n",
      "0  0.997739  0.001487\n",
      "1  0.000756  0.000018\n"
     ]
    }
   ],
   "source": [
    "gibbs_4.run()"
   ]
  },
  {
   "cell_type": "code",
   "execution_count": 18,
   "id": "b7cdfb71-7238-4ff4-b071-6a3d86552974",
   "metadata": {},
   "outputs": [
    {
     "name": "stdout",
     "output_type": "stream",
     "text": [
      "          0         1\n",
      "0  0.354386  0.232140\n",
      "1  0.205180  0.208294\n"
     ]
    }
   ],
   "source": [
    "gibbs_1.run()"
   ]
  },
  {
   "cell_type": "code",
   "execution_count": 19,
   "id": "92145756-3d50-41c2-96a1-215ae0128bf5",
   "metadata": {},
   "outputs": [
    {
     "name": "stdout",
     "output_type": "stream",
     "text": [
      "          0         1\n",
      "0  0.257205  0.250378\n",
      "1  0.245429  0.246988\n"
     ]
    }
   ],
   "source": [
    "gibbs_001.run()"
   ]
  },
  {
   "cell_type": "code",
   "execution_count": null,
   "id": "8f798611-7b6e-4e06-a058-d8f47383a32a",
   "metadata": {},
   "outputs": [],
   "source": []
  }
 ],
 "metadata": {
  "kernelspec": {
   "display_name": "Python 3 (ipykernel)",
   "language": "python",
   "name": "python3"
  },
  "language_info": {
   "codemirror_mode": {
    "name": "ipython",
    "version": 3
   },
   "file_extension": ".py",
   "mimetype": "text/x-python",
   "name": "python",
   "nbconvert_exporter": "python",
   "pygments_lexer": "ipython3",
   "version": "3.12.7"
  }
 },
 "nbformat": 4,
 "nbformat_minor": 5
}
