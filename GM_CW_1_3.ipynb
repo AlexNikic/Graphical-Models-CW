{
  "nbformat": 4,
  "nbformat_minor": 0,
  "metadata": {
    "colab": {
      "provenance": []
    },
    "kernelspec": {
      "name": "python3",
      "display_name": "Python 3"
    },
    "language_info": {
      "name": "python"
    }
  },
  "cells": [
    {
      "cell_type": "code",
      "source": [
        "import csv\n",
        "import numpy as np"
      ],
      "metadata": {
        "id": "Pu_EBkIS6wV-"
      },
      "execution_count": null,
      "outputs": []
    },
    {
      "cell_type": "code",
      "execution_count": null,
      "metadata": {
        "id": "J77Alq-k3DMS",
        "colab": {
          "base_uri": "https://localhost:8080/"
        },
        "outputId": "2fe9e1bf-261c-4d4a-84ad-54af7cd267ae"
      },
      "outputs": [
        {
          "output_type": "stream",
          "name": "stdout",
          "text": [
            "[[1 2 2 ... 0 0 2]\n",
            " [1 2 1 ... 1 2 1]\n",
            " [1 2 1 ... 2 1 2]\n",
            " ...\n",
            " [2 0 1 ... 1 2 0]\n",
            " [0 2 0 ... 0 2 2]\n",
            " [0 1 1 ... 0 1 1]]\n"
          ]
        }
      ],
      "source": [
        "# read data from csv into a numpy matrix\n",
        "meteo_data = []\n",
        "\n",
        "with open(\"meteo1.csv\", \"r\") as csv_file:\n",
        "    csv_reader = csv.reader(csv_file, delimiter=\" \")\n",
        "    for row in csv_reader:\n",
        "        meteo_data.append(row)\n",
        "\n",
        "meteo_data = np.asarray(meteo_data).astype(int)\n",
        "print(meteo_data)"
      ]
    },
    {
      "cell_type": "code",
      "source": [
        "meteo_data.shape"
      ],
      "metadata": {
        "colab": {
          "base_uri": "https://localhost:8080/"
        },
        "id": "O0zn7FfU64CD",
        "outputId": "1c9f3ace-7c8d-4b7d-897a-b832bbc89d96"
      },
      "execution_count": null,
      "outputs": [
        {
          "output_type": "execute_result",
          "data": {
            "text/plain": [
              "(500, 100)"
            ]
          },
          "metadata": {},
          "execution_count": 5
        }
      ]
    },
    {
      "cell_type": "markdown",
      "source": [
        "We have 500 realisations of Markov Chains of length 100."
      ],
      "metadata": {
        "id": "yox7f4XA8IVD"
      }
    },
    {
      "cell_type": "code",
      "source": [
        "N = meteo_data.shape[0] # 500\n",
        "M = meteo_data.shape[1] # 100\n",
        "H = 3 # number of classes\n",
        "S = 3 # number of states\n",
        "\n",
        "def em_algorithm(init_strat=\"random\", num_iter=100):\n",
        "\n",
        "  if init_strat == \"random\":\n",
        "    eta = np.random.rand(H)\n",
        "    eta /= np.sum(eta)\n",
        "\n",
        "    pi = np.random.rand(S,H)\n",
        "    pi /= np.sum(pi, axis=0)\n",
        "\n",
        "    A = np.random.rand(S,S,H)\n",
        "    A /= np.sum(A, axis=1)\n",
        "\n",
        "  elif init_strat == \"uniform\":\n",
        "    eta = np.repeat(1/H,H)                # class probabilities (H)\n",
        "    pi = np.repeat(1/S,H*S).reshape(S,H)    # initial distributions of the Markov Chains; (S,H)\n",
        "    A = np.repeat(1/S,H*S*S).reshape(S,S,H) # transition probabilities of the Markov Chains (S,S,H)\n",
        "\n",
        "  else:\n",
        "    return None\n",
        "\n",
        "\n",
        "  for iter in range(num_iter):\n",
        "\n",
        "    # E step\n",
        "\n",
        "    # q update (N,H)\n",
        "    q = eta * pi[meteo_data[:, 0], :] * np.prod(A[meteo_data[:, :-1], meteo_data[:, 1:], :], axis=1)\n",
        "    q = q / q.sum(axis=1, keepdims=True)\n",
        "\n",
        "\n",
        "    # M step\n",
        "\n",
        "    # eta update\n",
        "    eta = q.sum(axis=0) / N\n",
        "\n",
        "    # pi update\n",
        "    for s in range(S):\n",
        "      pi[s, :] = np.sum(q[meteo_data[:, 0] == s, :], axis=0) / np.sum(q, axis=0)\n",
        "\n",
        "    # A update\n",
        "    A = np.zeros_like(A)\n",
        "    for n in range(N):\n",
        "      for m in range(1, M):\n",
        "        A[meteo_data[n, m-1], meteo_data[n, m], :] += q[n, :]\n",
        "    A /= np.sum(A, axis=1, keepdims=True)\n",
        "\n",
        "\n",
        "  # calculate log likelihood\n",
        "  h_hat = np.argmax(q, axis=1)\n",
        "  likelihood = eta[h_hat] * pi[meteo_data[:, 0], h_hat] * np.prod(A[meteo_data[:, :-1], meteo_data[:, 1:], h_hat[:, np.newaxis]], axis=1)\n",
        "  log_likelihood = np.sum(np.log(likelihood))\n",
        "\n",
        "  return h_hat, log_likelihood, q, eta, pi, A\n",
        "\n",
        "h_hat, log_likelihood, q, eta, pi, A = em_algorithm(init_strat=\"random\", num_iter=200)"
      ],
      "metadata": {
        "id": "a611jZxZ8Vk3"
      },
      "execution_count": null,
      "outputs": []
    },
    {
      "cell_type": "code",
      "source": [
        "np.round(log_likelihood, 3)"
      ],
      "metadata": {
        "colab": {
          "base_uri": "https://localhost:8080/"
        },
        "id": "WJGINLaxs3Aj",
        "outputId": "455a4f9f-7c89-4022-9780-cd9b61c3fcb3"
      },
      "execution_count": null,
      "outputs": [
        {
          "output_type": "execute_result",
          "data": {
            "text/plain": [
              "-45255.667"
            ]
          },
          "metadata": {},
          "execution_count": 27
        }
      ]
    },
    {
      "cell_type": "code",
      "source": [
        "q[:10]"
      ],
      "metadata": {
        "colab": {
          "base_uri": "https://localhost:8080/"
        },
        "id": "OHBPl00Gr2Xj",
        "outputId": "74339797-d57a-4cc4-897b-5afab6f87d72"
      },
      "execution_count": null,
      "outputs": [
        {
          "output_type": "execute_result",
          "data": {
            "text/plain": [
              "array([[2.06216772e-25, 1.48878824e-08, 9.99999985e-01],\n",
              "       [1.00000000e+00, 2.30954113e-34, 2.26258282e-35],\n",
              "       [1.00000000e+00, 3.50719071e-40, 2.65044484e-45],\n",
              "       [1.00000000e+00, 3.84246130e-21, 1.75114283e-25],\n",
              "       [1.00000000e+00, 1.85189472e-27, 3.63108812e-30],\n",
              "       [1.00000000e+00, 3.90910876e-33, 1.46699703e-30],\n",
              "       [3.54923783e-22, 6.09004656e-05, 9.99939100e-01],\n",
              "       [1.00000000e+00, 6.87032044e-30, 2.08878031e-34],\n",
              "       [1.00000000e+00, 0.00000000e+00, 0.00000000e+00],\n",
              "       [1.00000000e+00, 8.43241539e-35, 6.22525031e-37]])"
            ]
          },
          "metadata": {},
          "execution_count": 8
        }
      ]
    },
    {
      "cell_type": "code",
      "source": [
        "np.round(q[:10], 3)"
      ],
      "metadata": {
        "colab": {
          "base_uri": "https://localhost:8080/"
        },
        "id": "XuWPdYjqs_s8",
        "outputId": "02c21cfe-f780-412f-f744-3e06f8f79b14"
      },
      "execution_count": null,
      "outputs": [
        {
          "output_type": "execute_result",
          "data": {
            "text/plain": [
              "array([[0., 0., 1.],\n",
              "       [1., 0., 0.],\n",
              "       [1., 0., 0.],\n",
              "       [1., 0., 0.],\n",
              "       [1., 0., 0.],\n",
              "       [1., 0., 0.],\n",
              "       [0., 0., 1.],\n",
              "       [1., 0., 0.],\n",
              "       [1., 0., 0.],\n",
              "       [1., 0., 0.]])"
            ]
          },
          "metadata": {},
          "execution_count": 9
        }
      ]
    },
    {
      "cell_type": "code",
      "source": [
        "np.round(eta, 3)"
      ],
      "metadata": {
        "colab": {
          "base_uri": "https://localhost:8080/"
        },
        "id": "0FlVRFAoEqzY",
        "outputId": "15a4dded-27b6-4fe3-d7fe-049a31919bb2"
      },
      "execution_count": null,
      "outputs": [
        {
          "output_type": "execute_result",
          "data": {
            "text/plain": [
              "array([0.808, 0.002, 0.19 ])"
            ]
          },
          "metadata": {},
          "execution_count": 10
        }
      ]
    },
    {
      "cell_type": "code",
      "source": [
        "np.round(pi[:,0], 3)"
      ],
      "metadata": {
        "colab": {
          "base_uri": "https://localhost:8080/"
        },
        "id": "IF5zUmAJEtMk",
        "outputId": "e179c62d-ec50-4dd0-f3f6-5e73f7f9aa4d"
      },
      "execution_count": null,
      "outputs": [
        {
          "output_type": "execute_result",
          "data": {
            "text/plain": [
              "array([0.361, 0.364, 0.275])"
            ]
          },
          "metadata": {},
          "execution_count": 11
        }
      ]
    },
    {
      "cell_type": "code",
      "source": [
        "np.round(pi[:,1], 3)"
      ],
      "metadata": {
        "colab": {
          "base_uri": "https://localhost:8080/"
        },
        "id": "liVUCS-EIfjo",
        "outputId": "466dac4d-0696-4967-8d8c-342957ba79d9"
      },
      "execution_count": null,
      "outputs": [
        {
          "output_type": "execute_result",
          "data": {
            "text/plain": [
              "array([0., 1., 0.])"
            ]
          },
          "metadata": {},
          "execution_count": 12
        }
      ]
    },
    {
      "cell_type": "code",
      "source": [
        "np.round(pi[:,2], 3)"
      ],
      "metadata": {
        "colab": {
          "base_uri": "https://localhost:8080/"
        },
        "id": "-UeaXfNOIfl-",
        "outputId": "d9e01b1c-9ef0-4dae-a983-121a283c676e"
      },
      "execution_count": null,
      "outputs": [
        {
          "output_type": "execute_result",
          "data": {
            "text/plain": [
              "array([0.432, 0.568, 0.   ])"
            ]
          },
          "metadata": {},
          "execution_count": 13
        }
      ]
    },
    {
      "cell_type": "code",
      "source": [
        "np.round(A[:,:,0], 3)"
      ],
      "metadata": {
        "colab": {
          "base_uri": "https://localhost:8080/"
        },
        "id": "gE5HSjTUEtxo",
        "outputId": "78650714-003c-4d3e-e333-2d3fbbcee9e6"
      },
      "execution_count": null,
      "outputs": [
        {
          "output_type": "execute_result",
          "data": {
            "text/plain": [
              "array([[0.067, 0.37 , 0.563],\n",
              "       [0.134, 0.259, 0.606],\n",
              "       [0.472, 0.433, 0.094]])"
            ]
          },
          "metadata": {},
          "execution_count": 14
        }
      ]
    },
    {
      "cell_type": "code",
      "source": [
        "np.round(A[:,:,1], 3)"
      ],
      "metadata": {
        "colab": {
          "base_uri": "https://localhost:8080/"
        },
        "id": "TWC7ZsEXH_pt",
        "outputId": "19313233-703f-4524-b8b9-4c07184e929f"
      },
      "execution_count": null,
      "outputs": [
        {
          "output_type": "execute_result",
          "data": {
            "text/plain": [
              "array([[0.275, 0.325, 0.4  ],\n",
              "       [0.331, 0.285, 0.384],\n",
              "       [0.378, 0.021, 0.601]])"
            ]
          },
          "metadata": {},
          "execution_count": 15
        }
      ]
    },
    {
      "cell_type": "code",
      "source": [
        "np.round(A[:,:,2], 3)"
      ],
      "metadata": {
        "colab": {
          "base_uri": "https://localhost:8080/"
        },
        "id": "Cg4PthB5H_r5",
        "outputId": "2e18b6a7-d920-4304-f6fa-f2877d1cee3a"
      },
      "execution_count": null,
      "outputs": [
        {
          "output_type": "execute_result",
          "data": {
            "text/plain": [
              "array([[0.39 , 0.147, 0.463],\n",
              "       [0.239, 0.518, 0.242],\n",
              "       [0.547, 0.018, 0.435]])"
            ]
          },
          "metadata": {},
          "execution_count": 16
        }
      ]
    },
    {
      "cell_type": "code",
      "source": [
        "h_hat[:10]"
      ],
      "metadata": {
        "colab": {
          "base_uri": "https://localhost:8080/"
        },
        "id": "7TCXdz3EM03r",
        "outputId": "e857fd62-8714-4be4-8c7f-f432a068a670"
      },
      "execution_count": null,
      "outputs": [
        {
          "output_type": "execute_result",
          "data": {
            "text/plain": [
              "array([2, 0, 0, 0, 0, 0, 2, 0, 0, 0])"
            ]
          },
          "metadata": {},
          "execution_count": 17
        }
      ]
    },
    {
      "cell_type": "code",
      "source": [
        "h_hat, log_likelihood, q, eta, pi, A = em_algorithm(init_strat=\"uniform\", num_iter=200)"
      ],
      "metadata": {
        "id": "7PYn6I5fN5--"
      },
      "execution_count": null,
      "outputs": []
    },
    {
      "cell_type": "code",
      "source": [
        "eta"
      ],
      "metadata": {
        "colab": {
          "base_uri": "https://localhost:8080/"
        },
        "id": "ln0wijvxOB8h",
        "outputId": "28f792a0-1190-469c-ff34-9c880e792710"
      },
      "execution_count": null,
      "outputs": [
        {
          "output_type": "execute_result",
          "data": {
            "text/plain": [
              "array([0.33333333, 0.33333333, 0.33333333])"
            ]
          },
          "metadata": {},
          "execution_count": 19
        }
      ]
    },
    {
      "cell_type": "code",
      "source": [
        "pi[:,0]"
      ],
      "metadata": {
        "colab": {
          "base_uri": "https://localhost:8080/"
        },
        "id": "93w7UhL-Pg57",
        "outputId": "110fcc58-9840-442d-acb4-a38fda02f54f"
      },
      "execution_count": null,
      "outputs": [
        {
          "output_type": "execute_result",
          "data": {
            "text/plain": [
              "array([0.374, 0.404, 0.222])"
            ]
          },
          "metadata": {},
          "execution_count": 20
        }
      ]
    },
    {
      "cell_type": "code",
      "source": [
        "pi[:,1]"
      ],
      "metadata": {
        "colab": {
          "base_uri": "https://localhost:8080/"
        },
        "id": "TZoZRbK_RlAj",
        "outputId": "35bd75ae-19a6-4dd8-ef45-8a2b0a3558c6"
      },
      "execution_count": null,
      "outputs": [
        {
          "output_type": "execute_result",
          "data": {
            "text/plain": [
              "array([0.374, 0.404, 0.222])"
            ]
          },
          "metadata": {},
          "execution_count": 21
        }
      ]
    },
    {
      "cell_type": "code",
      "source": [
        "pi[:,2]"
      ],
      "metadata": {
        "colab": {
          "base_uri": "https://localhost:8080/"
        },
        "id": "IK9wp1tURlCq",
        "outputId": "77eb55fc-1742-47e7-f8aa-eeb19651f927"
      },
      "execution_count": null,
      "outputs": [
        {
          "output_type": "execute_result",
          "data": {
            "text/plain": [
              "array([0.374, 0.404, 0.222])"
            ]
          },
          "metadata": {},
          "execution_count": 22
        }
      ]
    },
    {
      "cell_type": "code",
      "source": [
        "np.round(A[:,:,0], 3)"
      ],
      "metadata": {
        "colab": {
          "base_uri": "https://localhost:8080/"
        },
        "id": "P-poJCjyPiXR",
        "outputId": "4dda2294-498b-4fc6-b67b-b5bde87bcb8b"
      },
      "execution_count": null,
      "outputs": [
        {
          "output_type": "execute_result",
          "data": {
            "text/plain": [
              "array([[0.16 , 0.306, 0.534],\n",
              "       [0.145, 0.283, 0.572],\n",
              "       [0.487, 0.35 , 0.163]])"
            ]
          },
          "metadata": {},
          "execution_count": 23
        }
      ]
    },
    {
      "cell_type": "code",
      "source": [
        "log_likelihood"
      ],
      "metadata": {
        "colab": {
          "base_uri": "https://localhost:8080/"
        },
        "id": "P98hQGXzPkhg",
        "outputId": "cf1f5697-d632-45b8-e98a-ed3e99ba8cdf"
      },
      "execution_count": null,
      "outputs": [
        {
          "output_type": "execute_result",
          "data": {
            "text/plain": [
              "-50022.85343371084"
            ]
          },
          "metadata": {},
          "execution_count": 29
        }
      ]
    },
    {
      "cell_type": "code",
      "source": [
        "q"
      ],
      "metadata": {
        "colab": {
          "base_uri": "https://localhost:8080/"
        },
        "id": "7dOOSMMJXsdJ",
        "outputId": "527d4b98-2512-4501-9237-1f67c4ea9866"
      },
      "execution_count": null,
      "outputs": [
        {
          "output_type": "execute_result",
          "data": {
            "text/plain": [
              "array([[0.33333333, 0.33333333, 0.33333333],\n",
              "       [0.33333333, 0.33333333, 0.33333333],\n",
              "       [0.33333333, 0.33333333, 0.33333333],\n",
              "       ...,\n",
              "       [0.33333333, 0.33333333, 0.33333333],\n",
              "       [0.33333333, 0.33333333, 0.33333333],\n",
              "       [0.33333333, 0.33333333, 0.33333333]])"
            ]
          },
          "metadata": {},
          "execution_count": 25
        }
      ]
    }
  ]
}