{
 "cells": [
  {
   "cell_type": "markdown",
   "metadata": {},
   "source": [
    "# 2.1"
   ]
  },
  {
   "cell_type": "code",
   "execution_count": 52,
   "metadata": {},
   "outputs": [],
   "source": [
    "def row_swap(matrix, i, j):\n",
    "    matrix[i], matrix[j] = matrix[j], matrix[i]\n",
    "    return matrix\n",
    "    \n",
    "def row_addtion(matrix, i, j):\n",
    "    # R_i = R_i + R_j\n",
    "    matrix[i] = [a ^ b for a, b in zip(matrix[i], matrix[j])]\n",
    "    return matrix\n",
    "\n",
    "def find_leading_one(matrix, row_i, column_i, k):\n",
    "    while row_i <= k-1:\n",
    "        if matrix[row_i][column_i] == 1:\n",
    "            return row_i\n",
    "        else:\n",
    "            row_i += 1\n",
    "    return -1"
   ]
  },
  {
   "cell_type": "code",
   "execution_count": 53,
   "metadata": {},
   "outputs": [],
   "source": [
    "def echelon_and_generator_matrix(matrix):\n",
    "    n = len(matrix[0])\n",
    "    k = len(matrix)\n",
    "    # Echelon\n",
    "    for i in range(n-k):\n",
    "        current_column_index = k+i\n",
    "        # First find the row with leading one that fits the description of the identity matrix\n",
    "        row_with_leading_one = find_leading_one(matrix, i, current_column_index, k)\n",
    "        if row_with_leading_one == -1:\n",
    "            print(\"Error: Cannot obtain echelon form\")\n",
    "        # Swap the row with leading one with the current top row\n",
    "        matrix = row_swap(matrix, i, row_with_leading_one)\n",
    "        # Remove 1s in rows other than current row\n",
    "        for other_i in range(n-k):\n",
    "            if other_i != i and matrix[other_i][current_column_index] == 1:\n",
    "                matrix = row_addtion(matrix, other_i, i)\n",
    "    echelon = matrix\n",
    "\n",
    "    # Generator\n",
    "    generator = []\n",
    "    # Identity Matrix\n",
    "    for i in range(k):\n",
    "        row_i = []\n",
    "        for j in range(k):\n",
    "            if j == i:\n",
    "                row_i.append(1)\n",
    "            else:\n",
    "                row_i.append(0)\n",
    "        generator.append(row_i)\n",
    "    # P^T\n",
    "    for i in range(k):\n",
    "        row_i = []\n",
    "        for j in range(k):\n",
    "            row_i.append(echelon[j][i])\n",
    "        generator.append(row_i)  \n",
    "        \n",
    "    return echelon, generator"
   ]
  },
  {
   "cell_type": "code",
   "execution_count": 54,
   "metadata": {},
   "outputs": [
    {
     "name": "stdout",
     "output_type": "stream",
     "text": [
      "([[0, 0, 1, 1, 0, 0], [1, 0, 0, 0, 1, 0], [0, 0, 0, 0, 0, 1]], [[1, 0, 0], [0, 1, 0], [0, 0, 1], [0, 1, 0], [0, 0, 0], [1, 0, 0]])\n"
     ]
    }
   ],
   "source": [
    "h = [[1,0,1,1,1,1], [0,0,1,1,0,0],[1,0,1,1,1,0]]\n",
    "echelon, generator = echelon_and_generator_matrix(h)\n",
    "# for i in echelon:\n",
    "#     print(i)\n",
    "# for i in generator:\n",
    "#     print(i)\n",
    "print(echelon_and_generator_matrix(h))"
   ]
  }
 ],
 "metadata": {
  "kernelspec": {
   "display_name": "Python 3",
   "language": "python",
   "name": "python3"
  },
  "language_info": {
   "codemirror_mode": {
    "name": "ipython",
    "version": 3
   },
   "file_extension": ".py",
   "mimetype": "text/x-python",
   "name": "python",
   "nbconvert_exporter": "python",
   "pygments_lexer": "ipython3",
   "version": "3.12.6"
  }
 },
 "nbformat": 4,
 "nbformat_minor": 2
}
